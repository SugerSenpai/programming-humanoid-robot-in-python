{
 "cells": [
  {
   "cell_type": "markdown",
   "metadata": {},
   "source": [
    "# add data to training set\n",
    "The provided train data may not sufficient to get good pose recognization results. In case the pose is not recognized correctly, this data can be manually added to the train data."
   ]
  },
  {
   "cell_type": "markdown",
   "metadata": {},
   "source": [
    "## Defined Poses\n",
    "* Stand: the weight is supported by the feet and the torso is upright.\n",
    "* StandInit: the torso is upright, and legs are bended (be ready to walk)\n",
    "* Sitting: the buttock is in contact with the ground and the torso is upright.\n",
    "* Crouch: sit on its feet\n",
    "* Belly: fall, stretched and facing down\n",
    "* Back: fall, stretched and facing up\n",
    "* Forg: fall, facing down with the trunk lifted.\n",
    "* HeadBack: fall, facing up with the trunk lifted.\n",
    "* Left: fall and facing to its left side\n",
    "* Right: fall and facing to its right side\n",
    "\n",
    "There are images in robot_pose_image folder as examples for predefined poses."
   ]
  },
  {
   "cell_type": "code",
   "execution_count": 1,
   "metadata": {},
   "outputs": [
    {
     "ename": "NameError",
     "evalue": "name 'imshow' is not defined",
     "output_type": "error",
     "traceback": [
      "\u001b[0;31m---------------------------------------------------------------------------\u001b[0m",
      "\u001b[0;31mNameError\u001b[0m                                 Traceback (most recent call last)",
      "Cell \u001b[0;32mIn[1], line 2\u001b[0m\n\u001b[1;32m      1\u001b[0m get_ipython()\u001b[38;5;241m.\u001b[39mrun_line_magic(\u001b[38;5;124m'\u001b[39m\u001b[38;5;124mmatplotlib\u001b[39m\u001b[38;5;124m'\u001b[39m, \u001b[38;5;124m'\u001b[39m\u001b[38;5;124minline\u001b[39m\u001b[38;5;124m'\u001b[39m)\n\u001b[0;32m----> 2\u001b[0m \u001b[43mimshow\u001b[49m(imread(\u001b[38;5;124m'\u001b[39m\u001b[38;5;124mrobot_pose_image/Stand.png\u001b[39m\u001b[38;5;124m'\u001b[39m))\n",
      "\u001b[0;31mNameError\u001b[0m: name 'imshow' is not defined"
     ]
    }
   ],
   "source": [
    "%matplotlib inline\n",
    "imshow(imread('robot_pose_image/Stand.png'))"
   ]
  },
  {
   "cell_type": "markdown",
   "metadata": {},
   "source": [
    "## Load avaiable data"
   ]
  },
  {
   "cell_type": "code",
   "execution_count": 2,
   "metadata": {},
   "outputs": [],
   "source": [
    "import pickle\n",
    "from os import path\n",
    "\n",
    "pose_name = 'Back'\n",
    "data_file = path.join('robot_pose_data', pose_name)\n",
    "data = pickle.load(open(data_file, 'rb'))"
   ]
  },
  {
   "cell_type": "code",
   "execution_count": 4,
   "metadata": {},
   "outputs": [
    {
     "name": "stdout",
     "output_type": "stream",
     "text": [
      "[[-0.05058002471923828, -0.2269899845123291, -0.8298521041870117, 1.7180380821228027, -0.05058002471923828, -0.1487560272216797, -0.9311800003051758, 1.8945322036743164, -0.008992496877908707, -1.516520619392395], [-0.05058002471923828, -0.2269899845123291, -0.8298521041870117, 1.7180380821228027, -0.05058002471923828, -0.1487560272216797, -0.9311800003051758, 1.8960661888122559, -0.006883446592837572, -1.5203558206558228], [-0.05058002471923828, -0.2269899845123291, -0.8298521041870117, 1.7165040969848633, -0.05058002471923828, -0.1487560272216797, -0.9311800003051758, 1.8945322036743164, -0.006883446592837572, -1.520164132118225], [-0.05058002471923828, -0.2269899845123291, -0.8298521041870117, 1.7165040969848633, -0.05058002471923828, -0.1487560272216797, -0.9311800003051758, 1.8945322036743164, -0.007075135130435228, -1.5199724435806274], [-0.05058002471923828, -0.2269899845123291, -0.8298521041870117, 1.7165040969848633, -0.05058002471923828, -0.1487560272216797, -0.9296460151672363, 1.8945322036743164, -0.007266823668032885, -1.5199724435806274], [-0.05058002471923828, -0.2269899845123291, -0.8298521041870117, 1.7180380821228027, -0.05058002471923828, -0.1487560272216797, -0.9311800003051758, 1.8945322036743164, -0.007266823668032885, -1.5197802782058716], [-0.05058002471923828, -0.2269899845123291, -0.8298521041870117, 1.7165040969848633, -0.05058002471923828, -0.1487560272216797, -0.9311800003051758, 1.8945322036743164, -0.006883446592837572, -1.5216976404190063], [-0.05058002471923828, -0.22852396965026855, -0.8298521041870117, 1.7165040969848633, -0.05058002471923828, -0.1487560272216797, -0.9311800003051758, 1.8960661888122559, -0.008992496877908707, -1.5134526491165161], [-0.05058002471923828, -0.2269899845123291, -0.8298521041870117, 1.7165040969848633, -0.05058002471923828, -0.1487560272216797, -0.9311800003051758, 1.8960661888122559, -0.008992496877908707, -1.5161372423171997], [-0.05058002471923828, -0.2269899845123291, -0.8298521041870117, 1.7180380821228027, -0.05058002471923828, -0.1487560272216797, -0.9311800003051758, 1.8945322036743164, -0.009951416403055191, -1.5161372423171997], [0, 0, 0, 0, 0, 0, 0, 0, 0, -1.5707963267948966], [0.0, 0.0, 0.0, 0.0, 0.0, 0.0, 0.0, 0.0, 0.0, -1.5707963267948966], [0.0, 0.0, 0.0, 0.0, 0.0, 0.0, 0.0, 0.0, 0.0, -1.5707963267948966], [0.0, 0.0, 0.0, 0.0, 0.0, 0.0, 0.0, 0.0, 0.0, -1.5707963267948966], [0.0, 0.0, 0.0, 0.0, 0.0, 0.0, 0.0, 0.0, 0.0, -1.5707963267948966], [0.0, 0.0, 0.0, 0.0, 0.0, 0.0, 0.0, 0.0, 0.0, -1.5707963267948966], [0.0, 0.0, 0.0, 0.0, 0.0, 0.0, 0.0, 0.0, 0.0, -1.5707963267948966], [0.0, 0.0, 0.0, 0.0, 0.0, 0.0, 0.0, 0.0, 0.0, -1.5707963267948966], [0.0, 0.0, 0.0, 0.0, 0.0, 0.0, 0.0, 0.0, 0.0, -1.5707963267948966], [0.0, 0.0, 0.0, 0.0, 0.0, 0.0, 0.0, 0.0, 0.0, -1.5707963267948966], [0.0, 0.0, 0.0, 0.0, 0.0, 0.0, 0.0, 0.0, 0.0, -1.5707963267948966], [0.0, 0.0, 0.0, 0.0, 0.0, 0.0, 0.0, 0.0, 0.0, -1.5707963267948966], [0, 0, 0, 0, 0, 0, 0, 0, 0, -1.5707963267948966], [0, 0, 0, 0, 0, 0, 0, 0, 0, -1.5707963267948966], [0, 0, 0, 0, 0, 0, 0, 0, 0, -1.5707963267948966], [0, 0, 0, 0, 0, 0, 0, 0, 0, -1.5707963267948966]]\n"
     ]
    }
   ],
   "source": [
    "print (data)"
   ]
  },
  {
   "cell_type": "markdown",
   "metadata": {},
   "source": [
    "## Add new data"
   ]
  },
  {
   "cell_type": "code",
   "execution_count": 5,
   "metadata": {},
   "outputs": [],
   "source": [
    "new_data = [0, 0, 0, 0, 0, 0, 0, 0, 0, -1.5707963267948966]\n",
    "data.append(new_data)\n",
    "pickle.dump(data, open(data_file, 'wb'))"
   ]
  },
  {
   "cell_type": "markdown",
   "metadata": {},
   "source": [
    "Now, you have to retrain your classifier [learn_posture.ipynb](./learn_posture.ipynb) again."
   ]
  },
  {
   "cell_type": "code",
   "execution_count": null,
   "metadata": {
    "collapsed": true
   },
   "outputs": [],
   "source": []
  }
 ],
 "metadata": {
  "kernelspec": {
   "display_name": "Python 3 (ipykernel)",
   "language": "python",
   "name": "python3"
  },
  "language_info": {
   "codemirror_mode": {
    "name": "ipython",
    "version": 3
   },
   "file_extension": ".py",
   "mimetype": "text/x-python",
   "name": "python",
   "nbconvert_exporter": "python",
   "pygments_lexer": "ipython3",
   "version": "3.8.10"
  },
  "widgets": {
   "state": {},
   "version": "1.0.0"
  }
 },
 "nbformat": 4,
 "nbformat_minor": 1
}
